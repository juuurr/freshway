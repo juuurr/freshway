{
 "cells": [
  {
   "cell_type": "code",
   "execution_count": 96,
   "metadata": {},
   "outputs": [],
   "source": [
    "import numpy as np\n",
    "import pandas as pd\n",
    "from sklearn.preprocessing import StandardScaler, LabelEncoder\n",
    "from tensorflow.keras.models import Model\n",
    "from tensorflow.keras.layers import Input, Dense\n",
    "from tensorflow.keras.optimizers import SGD\n",
    "from sklearn.cluster import KMeans\n",
    "\n",
    "# 데이터 로드\n",
    "data = pd.read_csv('data/hos.csv')\n"
   ]
  },
  {
   "cell_type": "code",
   "execution_count": 58,
   "metadata": {},
   "outputs": [
    {
     "data": {
      "text/plain": [
       "Diagnosis\n",
       "제2형 당뇨    321\n",
       "고혈압       299\n",
       "건강함       194\n",
       "관상동맥질환    186\n",
       "Name: count, dtype: int64"
      ]
     },
     "execution_count": 58,
     "metadata": {},
     "output_type": "execute_result"
    }
   ],
   "source": [
    "data['Diagnosis'].value_counts()"
   ]
  },
  {
   "cell_type": "markdown",
   "metadata": {},
   "source": [
    "# Rule-Based Recommendation"
   ]
  },
  {
   "cell_type": "code",
   "execution_count": 82,
   "metadata": {},
   "outputs": [],
   "source": [
    "import numpy as np\n",
    "import pandas as pd\n",
    "\n",
    "data = pd.read_csv('data/hos.csv')\n",
    "\n",
    "def recommend_for_diabetes(menu):\n",
    "    filtered_menu = menu[(menu['당류(g)'] <= 3.3) & \n",
    "                         (menu['탄수화물(g)'] <= 13)&\n",
    "                          (menu['나트륨(mg)'] <= 40)]\n",
    "    return filtered_menu.sort_values(by=['당류(g)', '탄수화물(g)', '나트륨(mg)'])\n",
    "\n",
    "def recommend_for_hypertension(menu):\n",
    "    filtered_menu = menu[(menu['포화지방산(g)'] <= 1.4) & \n",
    "                          (menu['콜레스테롤(mg)'] <= 14) &\n",
    "                          (menu['지방(g)'] <= 5) &\n",
    "                          (menu['나트륨(mg)'] <= 40)]\n",
    "    return filtered_menu.sort_values(by=['포화지방산(g)', '콜레스테롤(mg)', '지방(g)', '나트륨(mg)'])\n",
    "\n",
    "def recommend_for_cad(menu):\n",
    "    filtered_menu = menu[(menu['콜레스테롤(mg)'] <= 14) & \n",
    "                          (menu['포화지방산(g)'] <= 1.4)& \n",
    "                          (menu['나트륨(mg)'] <= 40)]\n",
    "    return filtered_menu.sort_values(by=['콜레스테롤(mg)', '포화지방산(g)', '나트륨(mg)'])\n",
    "\n",
    "def select_menu(menu_df):\n",
    "    rice_menu = menu_df[menu_df['식품명'].str.contains('밥')]\n",
    "    soup_menu = menu_df[menu_df['식품명'].str.contains('국')]\n",
    "\n",
    "    # Check if rice_menu and soup_menu are not empty\n",
    "    if not rice_menu.empty:\n",
    "        rice_menu = rice_menu.sample(n=1)\n",
    "    else:\n",
    "        rice_menu = pd.DataFrame()  # Handle the case where there are no rice items\n",
    "    \n",
    "    if not soup_menu.empty:\n",
    "        soup_menu = soup_menu.sample(n=1)\n",
    "    else:\n",
    "        soup_menu = pd.DataFrame()\n",
    "    \n",
    "    remaining_menu = menu_df[~menu_df['식품명'].str.contains('밥|국')]\n",
    "    \n",
    "    # Select 3 more random items from the remaining menu\n",
    "    random_menu = remaining_menu.sample(n=3)\n",
    "    \n",
    "    # Combine the rice, soup, and random items\n",
    "    final_menu = pd.concat([rice_menu, soup_menu, random_menu])\n",
    "    \n",
    "    # Shuffle the final menu to ensure randomness\n",
    "    final_menu = final_menu.sample(frac=1).reset_index(drop=True)\n",
    "\n",
    "    sum_columns = final_menu.drop('식품명', axis=1).sum()\n",
    "    final_menu.loc[5] = sum_columns\n",
    "    final_menu.at[5, '식품명'] = '합계'\n",
    "    \n",
    "    return final_menu\n",
    "\n",
    "menu_data = pd.read_csv('data/menu.csv')\n",
    "\n",
    "diabetes_recommendations = select_menu(recommend_for_diabetes(menu_data))\n",
    "hypertension_recommendations = select_menu(recommend_for_hypertension(menu_data))\n",
    "cad_recommendations = select_menu(recommend_for_cad(menu_data))\n",
    "\n",
    "all_recommendations = {}\n",
    "all_recommendations['diabetes_recommendations'] = diabetes_recommendations\n",
    "all_recommendations['hypertension_recommendations'] = hypertension_recommendations\n",
    "all_recommendations['cad_recommendations'] = cad_recommendations"
   ]
  },
  {
   "cell_type": "code",
   "execution_count": 83,
   "metadata": {},
   "outputs": [
    {
     "data": {
      "text/plain": [
       "{'diabetes_recommendations':        식품명  에너지(kcal)  수분(g)  단백질(g)  지방(g)  탄수화물(g)  당류(g)  나트륨(mg)  칼륨(mg)  \\\n",
       " 0   미역국_새우       16.0   96.5    1.09   0.46     1.83    0.0      5.0    19.0   \n",
       " 1  미음_칠분도미       20.0   95.0    0.30   0.10     4.60    0.0      0.0     4.0   \n",
       " 2   쌀죽(흰죽)       52.0   87.0    1.33   0.15    11.43    0.0     29.0     9.0   \n",
       " 3     옥돔구이       39.0   19.8    4.91   1.92     0.11    0.0     33.0     1.0   \n",
       " 5       합계      127.0  298.3    7.63   2.63    17.97    0.0     67.0    33.0   \n",
       " \n",
       "    칼슘(mg)  철(mg)  비타민 A(μg RAE)  비타민 C(mg)  비타민 D(μg)  포화지방산(g)  콜레스테롤(mg)  \n",
       " 0     9.0   0.39            2.0       1.05       0.00      0.03      11.31  \n",
       " 1     1.0   0.00            0.0       0.00       0.00      0.03       0.00  \n",
       " 2     9.0   0.25            NaN       0.00       0.00      0.05       0.00  \n",
       " 3     9.0   0.22            6.0       0.11       0.54      0.34      23.02  \n",
       " 5    28.0   0.86            8.0       1.16       0.54      0.45      34.33  ,\n",
       " 'hypertension_recommendations':          식품명  에너지(kcal)  수분(g)  단백질(g)  지방(g)  탄수화물(g)  당류(g)  나트륨(mg)  \\\n",
       " 0  쌀죽(흰죽)_삼광       53.0   87.4    0.89   0.10    11.51   0.00      0.0   \n",
       " 1        수수밥      121.0    4.2    2.25   0.17    26.41   0.02      2.0   \n",
       " 2      고구마맛탕      143.0   34.0    0.71   3.53    27.12   8.20     30.0   \n",
       " 3       레몬청차       60.0   83.3    0.13   0.01    14.80  16.33      3.0   \n",
       " 4     미역국_새우       16.0   96.5    1.09   0.46     1.83   0.00      5.0   \n",
       " 5         합계      393.0  305.4    5.07   4.27    81.67  24.55     40.0   \n",
       " \n",
       "    칼륨(mg)  칼슘(mg)  철(mg)  비타민 A(μg RAE)  비타민 C(mg)  비타민 D(μg)  포화지방산(g)  \\\n",
       " 0     6.0     1.0   0.00            0.0       0.00        0.0      0.04   \n",
       " 1    62.0     2.0   0.49            0.0       0.00        0.0      0.05   \n",
       " 2   201.0    13.0   0.27            1.0       3.80        0.0      0.54   \n",
       " 3    23.0    13.0   0.00            NaN       5.17        0.0      0.00   \n",
       " 4    19.0     9.0   0.39            2.0       1.05        0.0      0.03   \n",
       " 5   311.0    38.0   1.15            3.0      10.02        0.0      0.66   \n",
       " \n",
       "    콜레스테롤(mg)  \n",
       " 0       0.00  \n",
       " 1       0.00  \n",
       " 2       0.00  \n",
       " 3       0.00  \n",
       " 4      11.31  \n",
       " 5      11.31  ,\n",
       " 'cad_recommendations':       식품명  에너지(kcal)  수분(g)  단백질(g)  지방(g)  탄수화물(g)  당류(g)  나트륨(mg)  칼륨(mg)  \\\n",
       " 0  감자_찐감자       70.0   81.6    2.16   0.16    15.01   0.86      3.0   480.0   \n",
       " 1  콩밥_강낭콩      173.0   56.8    4.38   0.39    38.04   0.10     25.0   116.0   \n",
       " 2  미역국_새우       16.0   96.5    1.09   0.46     1.83   0.00      5.0    19.0   \n",
       " 3   고구마맛탕      143.0   34.0    0.71   3.53    27.12   8.20     30.0   201.0   \n",
       " 4   우유_딸기       73.0   83.2    2.04   2.31    11.04  10.24     23.0   100.0   \n",
       " 5      합계      475.0  352.1   10.38   6.85    93.04  19.40     86.0   916.0   \n",
       " \n",
       "    칼슘(mg)  철(mg)  비타민 A(μg RAE)  비타민 C(mg)  비타민 D(μg)  포화지방산(g)  콜레스테롤(mg)  \n",
       " 0    10.0   0.33            0.0       8.10        0.0      0.03       0.00  \n",
       " 1    16.0   0.58            NaN       0.48        0.0      0.14       0.00  \n",
       " 2     9.0   0.39            2.0       1.05        0.0      0.03      11.31  \n",
       " 3    13.0   0.27            1.0       3.80        0.0      0.54       0.00  \n",
       " 4    71.0   0.07            NaN       1.34        0.0      1.15       6.93  \n",
       " 5   119.0   1.64            3.0      14.77        0.0      1.89      18.24  }"
      ]
     },
     "execution_count": 83,
     "metadata": {},
     "output_type": "execute_result"
    }
   ],
   "source": [
    "all_recommendations"
   ]
  },
  {
   "cell_type": "markdown",
   "metadata": {},
   "source": [
    "# Model-Based Recommendation"
   ]
  },
  {
   "cell_type": "code",
   "execution_count": null,
   "metadata": {},
   "outputs": [],
   "source": [
    "import pandas as pd\n",
    "\n",
    "data = pd.read_csv('data/hos.csv')\n",
    "df = data[data['Chronic_Diseases'] == '없음']"
   ]
  },
  {
   "cell_type": "code",
   "execution_count": 119,
   "metadata": {},
   "outputs": [
    {
     "name": "stderr",
     "output_type": "stream",
     "text": [
      "/var/folders/ng/72pd8d0x4p333xn15g8m8rd40000gn/T/ipykernel_2911/3270874598.py:1: SettingWithCopyWarning: \n",
      "A value is trying to be set on a copy of a slice from a DataFrame.\n",
      "Try using .loc[row_indexer,col_indexer] = value instead\n",
      "\n",
      "See the caveats in the documentation: https://pandas.pydata.org/pandas-docs/stable/user_guide/indexing.html#returning-a-view-versus-a-copy\n",
      "  df['Age'] = pd.cut(df['Age'], bins=[0, 49, 64, 74, float('inf')], labels=[0, 1, 2, 3], right=True)\n",
      "/var/folders/ng/72pd8d0x4p333xn15g8m8rd40000gn/T/ipykernel_2911/3270874598.py:3: SettingWithCopyWarning: \n",
      "A value is trying to be set on a copy of a slice from a DataFrame.\n",
      "Try using .loc[row_indexer,col_indexer] = value instead\n",
      "\n",
      "See the caveats in the documentation: https://pandas.pydata.org/pandas-docs/stable/user_guide/indexing.html#returning-a-view-versus-a-copy\n",
      "  df['Gender'] = df['Gender'].map({'남성': 1, '여성': 2})\n"
     ]
    }
   ],
   "source": [
    "df['Age'] = pd.cut(df['Age'], bins=[0, 49, 64, 74, float('inf')], labels=[0, 1, 2, 3], right=True)\n",
    "\n",
    "df['Gender'] = df['Gender'].map({'남성': 1, '여성': 2})"
   ]
  },
  {
   "cell_type": "code",
   "execution_count": null,
   "metadata": {},
   "outputs": [
    {
     "name": "stderr",
     "output_type": "stream",
     "text": [
      "/var/folders/ng/72pd8d0x4p333xn15g8m8rd40000gn/T/ipykernel_2911/516295445.py:22: FutureWarning: A value is trying to be set on a copy of a DataFrame or Series through chained assignment using an inplace method.\n",
      "The behavior will change in pandas 3.0. This inplace method will never work because the intermediate object on which we are setting values always behaves as a copy.\n",
      "\n",
      "For example, when doing 'df[col].method(value, inplace=True)', try using 'df.method({col: value}, inplace=True)' or df[col] = df[col].method(value) instead, to perform the operation inplace on the original object.\n",
      "\n",
      "\n",
      "  df[col].fillna(df[col].mode()[0], inplace=True)\n",
      "/var/folders/ng/72pd8d0x4p333xn15g8m8rd40000gn/T/ipykernel_2911/516295445.py:22: FutureWarning: A value is trying to be set on a copy of a DataFrame or Series through chained assignment using an inplace method.\n",
      "The behavior will change in pandas 3.0. This inplace method will never work because the intermediate object on which we are setting values always behaves as a copy.\n",
      "\n",
      "For example, when doing 'df[col].method(value, inplace=True)', try using 'df.method({col: value}, inplace=True)' or df[col] = df[col].method(value) instead, to perform the operation inplace on the original object.\n",
      "\n",
      "\n",
      "  df[col].fillna(df[col].mode()[0], inplace=True)\n",
      "/Users/juran/Library/Python/3.9/lib/python/site-packages/sklearn/utils/extmath.py:1137: RuntimeWarning: invalid value encountered in divide\n",
      "  updated_mean = (last_sum + new_sum) / updated_sample_count\n",
      "/Users/juran/Library/Python/3.9/lib/python/site-packages/sklearn/utils/extmath.py:1142: RuntimeWarning: invalid value encountered in divide\n",
      "  T = new_sum / new_sample_count\n",
      "/Users/juran/Library/Python/3.9/lib/python/site-packages/sklearn/utils/extmath.py:1162: RuntimeWarning: invalid value encountered in divide\n",
      "  new_unnormalized_variance -= correction**2 / new_sample_count\n"
     ]
    }
   ],
   "source": [
    "from sklearn.preprocessing import StandardScaler, LabelEncoder\n",
    "\n",
    "# 불필요한 열 제거 (예: ID)\n",
    "df = df.drop(columns=['Patient_ID', 'Chronic_Diseases'])\n",
    "\n",
    "# 연령 범주화\n",
    "df['Age'] = pd.cut(df['Age'], bins=[0, 49, 64, 74, float('inf')], labels=[0, 1, 2, 3], right=True)\n",
    "df['Gender'] = df['Gender'].map({'남성': 1, '여성': 2})\n",
    "\n",
    "# 범주형 변수 인코딩 (예: 성별, 만성 질환, 진단명)\n",
    "categorical_columns = ['Diagnosis', 'Medications']\n",
    "for col in categorical_columns:\n",
    "    df[col] = LabelEncoder().fit_transform(df[col])\n",
    "\n",
    "# 혈압 데이터 분리\n",
    "df[['Systolic_BP', 'Diastolic_BP']] = df['Blood_Pressure_mmHg'].str.split('/', expand=True).astype(float)\n",
    "df = df.drop(columns=['Blood_Pressure_mmHg'])\n",
    "\n",
    "# 범주형 컬럼의 결측치는 최빈값으로 채우기\n",
    "for col in ['Diagnosis', 'Medications']:\n",
    "    df[col].fillna(df[col].mode()[0], inplace=True)\n",
    "\n",
    "# 수치형 컬럼의 결측치는 평균값으로 채우기\n",
    "numeric_columns = df.select_dtypes(include=['float64', 'int']).columns\n",
    "df[numeric_columns] = df[numeric_columns].fillna(df[numeric_columns].mean())\n",
    "\n",
    "# 수치형 데이터 정규화\n",
    "scaler = StandardScaler()\n",
    "df[numeric_columns] = scaler.fit_transform(df[numeric_columns])\n",
    "\n",
    "# 데이터 준비\n",
    "X = df.values"
   ]
  },
  {
   "cell_type": "code",
   "execution_count": 121,
   "metadata": {},
   "outputs": [
    {
     "name": "stdout",
     "output_type": "stream",
     "text": [
      "Epoch 1/50\n"
     ]
    },
    {
     "name": "stderr",
     "output_type": "stream",
     "text": [
      "/Users/juran/Library/Python/3.9/lib/python/site-packages/sklearn/impute/_base.py:598: UserWarning: Skipping features without any observed values: [1]. At least one non-missing value is needed for imputation with strategy='mean'.\n",
      "  warnings.warn(\n"
     ]
    },
    {
     "name": "stdout",
     "output_type": "stream",
     "text": [
      "\u001b[1m8/8\u001b[0m \u001b[32m━━━━━━━━━━━━━━━━━━━━\u001b[0m\u001b[37m\u001b[0m \u001b[1m0s\u001b[0m 590us/step - loss: 1.1252\n",
      "Epoch 2/50\n",
      "\u001b[1m8/8\u001b[0m \u001b[32m━━━━━━━━━━━━━━━━━━━━\u001b[0m\u001b[37m\u001b[0m \u001b[1m0s\u001b[0m 445us/step - loss: 1.1121\n",
      "Epoch 3/50\n",
      "\u001b[1m8/8\u001b[0m \u001b[32m━━━━━━━━━━━━━━━━━━━━\u001b[0m\u001b[37m\u001b[0m \u001b[1m0s\u001b[0m 413us/step - loss: 1.1000\n",
      "Epoch 4/50\n",
      "\u001b[1m8/8\u001b[0m \u001b[32m━━━━━━━━━━━━━━━━━━━━\u001b[0m\u001b[37m\u001b[0m \u001b[1m0s\u001b[0m 401us/step - loss: 1.0757\n",
      "Epoch 5/50\n",
      "\u001b[1m8/8\u001b[0m \u001b[32m━━━━━━━━━━━━━━━━━━━━\u001b[0m\u001b[37m\u001b[0m \u001b[1m0s\u001b[0m 474us/step - loss: 1.0809\n",
      "Epoch 6/50\n",
      "\u001b[1m8/8\u001b[0m \u001b[32m━━━━━━━━━━━━━━━━━━━━\u001b[0m\u001b[37m\u001b[0m \u001b[1m0s\u001b[0m 425us/step - loss: 1.0487\n",
      "Epoch 7/50\n",
      "\u001b[1m8/8\u001b[0m \u001b[32m━━━━━━━━━━━━━━━━━━━━\u001b[0m\u001b[37m\u001b[0m \u001b[1m0s\u001b[0m 418us/step - loss: 1.0634\n",
      "Epoch 8/50\n",
      "\u001b[1m8/8\u001b[0m \u001b[32m━━━━━━━━━━━━━━━━━━━━\u001b[0m\u001b[37m\u001b[0m \u001b[1m0s\u001b[0m 440us/step - loss: 1.0488\n",
      "Epoch 9/50\n",
      "\u001b[1m8/8\u001b[0m \u001b[32m━━━━━━━━━━━━━━━━━━━━\u001b[0m\u001b[37m\u001b[0m \u001b[1m0s\u001b[0m 393us/step - loss: 1.0229\n",
      "Epoch 10/50\n",
      "\u001b[1m8/8\u001b[0m \u001b[32m━━━━━━━━━━━━━━━━━━━━\u001b[0m\u001b[37m\u001b[0m \u001b[1m0s\u001b[0m 455us/step - loss: 1.0408\n",
      "Epoch 11/50\n",
      "\u001b[1m8/8\u001b[0m \u001b[32m━━━━━━━━━━━━━━━━━━━━\u001b[0m\u001b[37m\u001b[0m \u001b[1m0s\u001b[0m 509us/step - loss: 0.9776\n",
      "Epoch 12/50\n",
      "\u001b[1m8/8\u001b[0m \u001b[32m━━━━━━━━━━━━━━━━━━━━\u001b[0m\u001b[37m\u001b[0m \u001b[1m0s\u001b[0m 369us/step - loss: 0.9899\n",
      "Epoch 13/50\n",
      "\u001b[1m8/8\u001b[0m \u001b[32m━━━━━━━━━━━━━━━━━━━━\u001b[0m\u001b[37m\u001b[0m \u001b[1m0s\u001b[0m 340us/step - loss: 1.0045\n",
      "Epoch 14/50\n",
      "\u001b[1m8/8\u001b[0m \u001b[32m━━━━━━━━━━━━━━━━━━━━\u001b[0m\u001b[37m\u001b[0m \u001b[1m0s\u001b[0m 359us/step - loss: 0.9995\n",
      "Epoch 15/50\n",
      "\u001b[1m8/8\u001b[0m \u001b[32m━━━━━━━━━━━━━━━━━━━━\u001b[0m\u001b[37m\u001b[0m \u001b[1m0s\u001b[0m 455us/step - loss: 0.9561\n",
      "Epoch 16/50\n",
      "\u001b[1m8/8\u001b[0m \u001b[32m━━━━━━━━━━━━━━━━━━━━\u001b[0m\u001b[37m\u001b[0m \u001b[1m0s\u001b[0m 409us/step - loss: 0.9503\n",
      "Epoch 17/50\n",
      "\u001b[1m8/8\u001b[0m \u001b[32m━━━━━━━━━━━━━━━━━━━━\u001b[0m\u001b[37m\u001b[0m \u001b[1m0s\u001b[0m 378us/step - loss: 0.9586\n",
      "Epoch 18/50\n",
      "\u001b[1m8/8\u001b[0m \u001b[32m━━━━━━━━━━━━━━━━━━━━\u001b[0m\u001b[37m\u001b[0m \u001b[1m0s\u001b[0m 350us/step - loss: 0.9619\n",
      "Epoch 19/50\n",
      "\u001b[1m8/8\u001b[0m \u001b[32m━━━━━━━━━━━━━━━━━━━━\u001b[0m\u001b[37m\u001b[0m \u001b[1m0s\u001b[0m 364us/step - loss: 0.9383\n",
      "Epoch 20/50\n",
      "\u001b[1m8/8\u001b[0m \u001b[32m━━━━━━━━━━━━━━━━━━━━\u001b[0m\u001b[37m\u001b[0m \u001b[1m0s\u001b[0m 375us/step - loss: 0.9055\n",
      "Epoch 21/50\n",
      "\u001b[1m8/8\u001b[0m \u001b[32m━━━━━━━━━━━━━━━━━━━━\u001b[0m\u001b[37m\u001b[0m \u001b[1m0s\u001b[0m 363us/step - loss: 0.9012\n",
      "Epoch 22/50\n",
      "\u001b[1m8/8\u001b[0m \u001b[32m━━━━━━━━━━━━━━━━━━━━\u001b[0m\u001b[37m\u001b[0m \u001b[1m0s\u001b[0m 441us/step - loss: 0.9226\n",
      "Epoch 23/50\n",
      "\u001b[1m8/8\u001b[0m \u001b[32m━━━━━━━━━━━━━━━━━━━━\u001b[0m\u001b[37m\u001b[0m \u001b[1m0s\u001b[0m 395us/step - loss: 0.8621\n",
      "Epoch 24/50\n",
      "\u001b[1m8/8\u001b[0m \u001b[32m━━━━━━━━━━━━━━━━━━━━\u001b[0m\u001b[37m\u001b[0m \u001b[1m0s\u001b[0m 431us/step - loss: 0.9090\n",
      "Epoch 25/50\n",
      "\u001b[1m8/8\u001b[0m \u001b[32m━━━━━━━━━━━━━━━━━━━━\u001b[0m\u001b[37m\u001b[0m \u001b[1m0s\u001b[0m 438us/step - loss: 0.8841\n",
      "Epoch 26/50\n",
      "\u001b[1m8/8\u001b[0m \u001b[32m━━━━━━━━━━━━━━━━━━━━\u001b[0m\u001b[37m\u001b[0m \u001b[1m0s\u001b[0m 343us/step - loss: 0.8679\n",
      "Epoch 27/50\n",
      "\u001b[1m8/8\u001b[0m \u001b[32m━━━━━━━━━━━━━━━━━━━━\u001b[0m\u001b[37m\u001b[0m \u001b[1m0s\u001b[0m 399us/step - loss: 0.8371\n",
      "Epoch 28/50\n",
      "\u001b[1m8/8\u001b[0m \u001b[32m━━━━━━━━━━━━━━━━━━━━\u001b[0m\u001b[37m\u001b[0m \u001b[1m0s\u001b[0m 351us/step - loss: 0.8561\n",
      "Epoch 29/50\n",
      "\u001b[1m8/8\u001b[0m \u001b[32m━━━━━━━━━━━━━━━━━━━━\u001b[0m\u001b[37m\u001b[0m \u001b[1m0s\u001b[0m 396us/step - loss: 0.8871\n",
      "Epoch 30/50\n",
      "\u001b[1m8/8\u001b[0m \u001b[32m━━━━━━━━━━━━━━━━━━━━\u001b[0m\u001b[37m\u001b[0m \u001b[1m0s\u001b[0m 388us/step - loss: 0.8342\n",
      "Epoch 31/50\n",
      "\u001b[1m8/8\u001b[0m \u001b[32m━━━━━━━━━━━━━━━━━━━━\u001b[0m\u001b[37m\u001b[0m \u001b[1m0s\u001b[0m 386us/step - loss: 0.8313\n",
      "Epoch 32/50\n",
      "\u001b[1m8/8\u001b[0m \u001b[32m━━━━━━━━━━━━━━━━━━━━\u001b[0m\u001b[37m\u001b[0m \u001b[1m0s\u001b[0m 388us/step - loss: 0.8147\n",
      "Epoch 33/50\n",
      "\u001b[1m8/8\u001b[0m \u001b[32m━━━━━━━━━━━━━━━━━━━━\u001b[0m\u001b[37m\u001b[0m \u001b[1m0s\u001b[0m 460us/step - loss: 0.8129\n",
      "Epoch 34/50\n",
      "\u001b[1m8/8\u001b[0m \u001b[32m━━━━━━━━━━━━━━━━━━━━\u001b[0m\u001b[37m\u001b[0m \u001b[1m0s\u001b[0m 387us/step - loss: 0.8139\n",
      "Epoch 35/50\n",
      "\u001b[1m8/8\u001b[0m \u001b[32m━━━━━━━━━━━━━━━━━━━━\u001b[0m\u001b[37m\u001b[0m \u001b[1m0s\u001b[0m 354us/step - loss: 0.8168\n",
      "Epoch 36/50\n",
      "\u001b[1m8/8\u001b[0m \u001b[32m━━━━━━━━━━━━━━━━━━━━\u001b[0m\u001b[37m\u001b[0m \u001b[1m0s\u001b[0m 369us/step - loss: 0.8135\n",
      "Epoch 37/50\n",
      "\u001b[1m8/8\u001b[0m \u001b[32m━━━━━━━━━━━━━━━━━━━━\u001b[0m\u001b[37m\u001b[0m \u001b[1m0s\u001b[0m 430us/step - loss: 0.7672\n",
      "Epoch 38/50\n",
      "\u001b[1m8/8\u001b[0m \u001b[32m━━━━━━━━━━━━━━━━━━━━\u001b[0m\u001b[37m\u001b[0m \u001b[1m0s\u001b[0m 389us/step - loss: 0.7788\n",
      "Epoch 39/50\n",
      "\u001b[1m8/8\u001b[0m \u001b[32m━━━━━━━━━━━━━━━━━━━━\u001b[0m\u001b[37m\u001b[0m \u001b[1m0s\u001b[0m 374us/step - loss: 0.7566\n",
      "Epoch 40/50\n",
      "\u001b[1m8/8\u001b[0m \u001b[32m━━━━━━━━━━━━━━━━━━━━\u001b[0m\u001b[37m\u001b[0m \u001b[1m0s\u001b[0m 369us/step - loss: 0.7598\n",
      "Epoch 41/50\n",
      "\u001b[1m8/8\u001b[0m \u001b[32m━━━━━━━━━━━━━━━━━━━━\u001b[0m\u001b[37m\u001b[0m \u001b[1m0s\u001b[0m 433us/step - loss: 0.7767\n",
      "Epoch 42/50\n",
      "\u001b[1m8/8\u001b[0m \u001b[32m━━━━━━━━━━━━━━━━━━━━\u001b[0m\u001b[37m\u001b[0m \u001b[1m0s\u001b[0m 337us/step - loss: 0.7426\n",
      "Epoch 43/50\n",
      "\u001b[1m8/8\u001b[0m \u001b[32m━━━━━━━━━━━━━━━━━━━━\u001b[0m\u001b[37m\u001b[0m \u001b[1m0s\u001b[0m 338us/step - loss: 0.7302\n",
      "Epoch 44/50\n",
      "\u001b[1m8/8\u001b[0m \u001b[32m━━━━━━━━━━━━━━━━━━━━\u001b[0m\u001b[37m\u001b[0m \u001b[1m0s\u001b[0m 356us/step - loss: 0.7536\n",
      "Epoch 45/50\n",
      "\u001b[1m8/8\u001b[0m \u001b[32m━━━━━━━━━━━━━━━━━━━━\u001b[0m\u001b[37m\u001b[0m \u001b[1m0s\u001b[0m 370us/step - loss: 0.7421\n",
      "Epoch 46/50\n",
      "\u001b[1m8/8\u001b[0m \u001b[32m━━━━━━━━━━━━━━━━━━━━\u001b[0m\u001b[37m\u001b[0m \u001b[1m0s\u001b[0m 422us/step - loss: 0.7160\n",
      "Epoch 47/50\n",
      "\u001b[1m8/8\u001b[0m \u001b[32m━━━━━━━━━━━━━━━━━━━━\u001b[0m\u001b[37m\u001b[0m \u001b[1m0s\u001b[0m 327us/step - loss: 0.7030\n",
      "Epoch 48/50\n",
      "\u001b[1m8/8\u001b[0m \u001b[32m━━━━━━━━━━━━━━━━━━━━\u001b[0m\u001b[37m\u001b[0m \u001b[1m0s\u001b[0m 396us/step - loss: 0.7106\n",
      "Epoch 49/50\n",
      "\u001b[1m8/8\u001b[0m \u001b[32m━━━━━━━━━━━━━━━━━━━━\u001b[0m\u001b[37m\u001b[0m \u001b[1m0s\u001b[0m 414us/step - loss: 0.7213\n",
      "Epoch 50/50\n",
      "\u001b[1m8/8\u001b[0m \u001b[32m━━━━━━━━━━━━━━━━━━━━\u001b[0m\u001b[37m\u001b[0m \u001b[1m0s\u001b[0m 353us/step - loss: 0.7291\n"
     ]
    },
    {
     "data": {
      "text/plain": [
       "<keras.src.callbacks.history.History at 0x17d266460>"
      ]
     },
     "execution_count": 121,
     "metadata": {},
     "output_type": "execute_result"
    }
   ],
   "source": [
    "from tensorflow.keras.layers import Input, Dense\n",
    "from tensorflow.keras.models import Model\n",
    "from sklearn.cluster import KMeans\n",
    "from tensorflow.keras.optimizers import SGD\n",
    "from sklearn.impute import SimpleImputer\n",
    "import numpy as np\n",
    "\n",
    "# NaN 값 처리 (평균값으로 채우기)\n",
    "imputer = SimpleImputer(strategy='mean')\n",
    "X_imputed = imputer.fit_transform(X)\n",
    "\n",
    "# Autoencoder 모델 정의\n",
    "input_dim = X_imputed.shape[1]\n",
    "encoding_dim = 10  # 임베딩 차원 (조정 가능)\n",
    "input_layer = Input(shape=(input_dim,))\n",
    "encoder = Dense(encoding_dim, activation=\"relu\")(input_layer)\n",
    "decoder = Dense(input_dim, activation=\"sigmoid\")(encoder)\n",
    "autoencoder = Model(inputs=input_layer, outputs=decoder)\n",
    "\n",
    "# Autoencoder 훈련\n",
    "autoencoder.compile(optimizer='adam', loss='mse')\n",
    "autoencoder.fit(X_imputed, X_imputed, epochs=50, batch_size=32, shuffle=True)\n"
   ]
  },
  {
   "cell_type": "code",
   "execution_count": null,
   "metadata": {},
   "outputs": [
    {
     "name": "stdout",
     "output_type": "stream",
     "text": [
      "\u001b[1m8/8\u001b[0m \u001b[32m━━━━━━━━━━━━━━━━━━━━\u001b[0m\u001b[37m\u001b[0m \u001b[1m0s\u001b[0m 1ms/step \n",
      "...Epoch 0, Change: 0.6104417443275452\n",
      "...Epoch 10, Change: 0.1325301229953766\n",
      "...Epoch 20, Change: 0.10843373835086823\n",
      "...Epoch 30, Change: 0.0803212821483612\n",
      "...Epoch 40, Change: 0.0803212821483612\n",
      "...Epoch 50, Change: 0.0602409653365612\n",
      "...Epoch 60, Change: 0.06827308982610703\n",
      "...Epoch 70, Change: 0.024096384644508362\n",
      "...Epoch 80, Change: 0.02811245061457157\n",
      "...Epoch 90, Change: 0.00803212821483612\n"
     ]
    }
   ],
   "source": [
    "# DEC 모델을 위한 초기 클러스터 중심 설정\n",
    "from tensorflow.keras.layers import Layer\n",
    "import tensorflow.keras.backend as K\n",
    "\n",
    "# 임베딩 추출\n",
    "encoder_model = Model(inputs=autoencoder.input, outputs=encoder)\n",
    "X_encoded = encoder_model.predict(X_imputed)\n",
    "\n",
    "# K-Means 클러스터링 초기화\n",
    "n_clusters = 5  # 설정에 따라 변경 가능\n",
    "kmeans = KMeans(n_clusters=n_clusters, n_init=20)\n",
    "y_pred = kmeans.fit_predict(X_encoded)\n",
    "\n",
    "\n",
    "class ClusteringLayer(Layer):\n",
    "    def __init__(self, n_clusters, **kwargs):\n",
    "        super(ClusteringLayer, self).__init__(**kwargs)\n",
    "        self.n_clusters = n_clusters\n",
    "\n",
    "    def build(self, input_shape):\n",
    "        self.clusters = self.add_weight(shape=(self.n_clusters, input_shape[1]),\n",
    "                                        initializer='glorot_uniform', name='clusters')\n",
    "\n",
    "    def call(self, inputs):\n",
    "        q = 1.0 / (1.0 + (K.sum(K.square(K.expand_dims(inputs, 1) - self.clusters), axis=2)))\n",
    "        q **= (self.n_clusters + 1.0) / 2.0\n",
    "        q = K.transpose(K.transpose(q) / K.sum(q, axis=1))\n",
    "        return q\n",
    "\n",
    "# 클러스터링 레이어 추가\n",
    "clustering_layer = ClusteringLayer(n_clusters, name='clustering')(encoder)\n",
    "dec_model = Model(inputs=input_layer, outputs=[clustering_layer, autoencoder.output])\n",
    "\n",
    "# DEC 모델 훈련\n",
    "dec_model.compile(optimizer=SGD(0.01, 0.9), loss=['kld', 'mse'])\n",
    "y_pred_last = np.copy(y_pred)\n",
    "\n",
    "for epoch in range(100):\n",
    "    q, _ = dec_model.predict(X_imputed, verbose=0)\n",
    "    p = q ** 2 / q.sum(0)\n",
    "    p = (p.T / p.sum(1)).T\n",
    "\n",
    "    y_pred = q.argmax(1)\n",
    "    if epoch % 10 == 0:\n",
    "        delta_label = np.sum(y_pred != y_pred_last).astype(np.float32) / y_pred.shape[0]\n",
    "        y_pred_last = np.copy(y_pred)\n",
    "        print(f'...Epoch {epoch}, Change: {delta_label}')\n",
    "    \n",
    "    # 모델 훈련\n",
    "    dec_model.fit(X_imputed, [p, X_imputed], epochs=1, batch_size=32, verbose=0)"
   ]
  },
  {
   "cell_type": "code",
   "execution_count": 126,
   "metadata": {},
   "outputs": [],
   "source": [
    "df['Cluster'] = y_pred"
   ]
  },
  {
   "cell_type": "code",
   "execution_count": 127,
   "metadata": {},
   "outputs": [
    {
     "data": {
      "image/png": "[encoded data removed]",
      "text/plain": [
       "<Figure size 1500x1000 with 6 Axes>"
      ]
     },
     "metadata": {},
     "output_type": "display_data"
    }
   ],
   "source": [
    "import seaborn as sns\n",
    "import matplotlib.pyplot as plt\n",
    "\n",
    "# 주요 변수들에 대해 시각화\n",
    "\n",
    "# 변수들 리스트\n",
    "variables = ['Height_cm', 'Weight_kg', 'Blood_Glucose_mg_dL', 'Cholesterol_mg_dL', \n",
    "             'Systolic_BP', 'Diastolic_BP']\n",
    "\n",
    "# 2x3 배열로 그래프 배치\n",
    "plt.figure(figsize=(15, 10))\n",
    "\n",
    "# 각 변수별로 시각화\n",
    "for i, var in enumerate(variables, 1):\n",
    "    plt.subplot(2, 3, i)\n",
    "    sns.boxplot(x='Cluster', y=var, data=df)\n",
    "    plt.title(f'{var} Distribution by Cluster')\n",
    "\n",
    "plt.tight_layout()\n",
    "plt.show()"
   ]
  },
  {
   "cell_type": "code",
   "execution_count": 130,
   "metadata": {},
   "outputs": [
    {
     "name": "stdout",
     "output_type": "stream",
     "text": [
      "         Gender  Height_cm  Weight_kg  Blood_Glucose_mg_dL  Cholesterol_mg_dL  \\\n",
      "Cluster                                                                         \n",
      "0           NaN  -0.940783  -0.357408             0.052605          -0.123174   \n",
      "1           NaN   0.672454   0.495861            -0.263760           0.048674   \n",
      "2           NaN   0.115213   0.165595            -0.276298           0.452770   \n",
      "3           NaN  -0.685259  -0.653887            -0.076910          -0.451927   \n",
      "4           NaN   0.584178   0.163394             0.889851           0.190121   \n",
      "\n",
      "         Diagnosis  Medications  Systolic_BP  Diastolic_BP  \n",
      "Cluster                                                     \n",
      "0        -0.258869     0.469829    -0.539718     -0.782964  \n",
      "1        -0.110604    -0.017523     0.783201     -0.577897  \n",
      "2        -0.740641     0.351713    -0.744300      0.761463  \n",
      "3         0.720757    -0.382986     0.155074      0.647111  \n",
      "4         0.313319    -0.351634    -0.357698      0.310619  \n"
     ]
    }
   ],
   "source": [
    "# 군집별 데이터의 평균값을 계산 (숫자형 데이터만)\n",
    "cluster_summary = df.groupby('Cluster').mean(numeric_only=True)\n",
    "\n",
    "# 결과 출력\n",
    "print(cluster_summary)"
   ]
  },
  {
   "cell_type": "code",
   "execution_count": null,
   "metadata": {},
   "outputs": [],
   "source": []
  }
 ],
 "metadata": {
  "kernelspec": {
   "display_name": "Python 3",
   "language": "python",
   "name": "python3"
  },
  "language_info": {
   "codemirror_mode": {
    "name": "ipython",
    "version": 3
   },
   "file_extension": ".py",
   "mimetype": "text/x-python",
   "name": "python",
   "nbconvert_exporter": "python",
   "pygments_lexer": "ipython3",
   "version": "3.9.6"
  }
 },
 "nbformat": 4,
 "nbformat_minor": 2
}
